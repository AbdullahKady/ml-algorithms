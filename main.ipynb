{
 "cells": [
  {
   "cell_type": "code",
   "execution_count": 1,
   "metadata": {},
   "outputs": [],
   "source": [
    "import matplotlib.pyplot as plt\n",
    "import numpy as np\n",
    "import os"
   ]
  },
  {
   "cell_type": "code",
   "execution_count": 2,
   "metadata": {},
   "outputs": [],
   "source": [
    "def get_t():\n",
    "    labels_path = os.path.join('Train', 'Training Labels.txt')\n",
    "    with open(labels_path) as f:\n",
    "        training_labels = [int(x) for x in f.read().splitlines()]\n",
    "    return np.array(training_labels)"
   ]
  },
  {
   "cell_type": "code",
   "execution_count": 68,
   "metadata": {},
   "outputs": [],
   "source": [
    "def get_x():\n",
    "    sorted_file_names = sorted([x for x in os.listdir('Train') if x.endswith('.jpg')], key=lambda x: int(x[:-4]))\n",
    "\n",
    "    image_paths = [os.path.join('Train', x) for x in sorted_file_names]\n",
    "    x_input_points = np.zeros((0, 784))\n",
    "    for img in image_paths:\n",
    "        x_input_points = np.append(x_input_points, plt.imread(img).reshape(1, 784), axis=0)\n",
    "\n",
    "    return x_input_points"
   ]
  },
  {
   "cell_type": "code",
   "execution_count": 75,
   "metadata": {},
   "outputs": [
    {
     "name": "stdout",
     "output_type": "stream",
     "text": [
      "x:  (2400, 784)\n",
      "t:  (2400,)\n"
     ]
    }
   ],
   "source": [
    "x = get_x()\n",
    "print('x: ', x.shape)\n",
    "t = get_t()\n",
    "print('t: ', t.shape)"
   ]
  },
  {
   "cell_type": "code",
   "execution_count": 70,
   "metadata": {},
   "outputs": [
    {
     "data": {
      "text/plain": [
       "(array([[0., 0., 0., ..., 0., 0., 1.],\n",
       "        [0., 0., 0., ..., 0., 0., 1.],\n",
       "        [0., 0., 0., ..., 0., 0., 1.],\n",
       "        ...,\n",
       "        [0., 0., 0., ..., 0., 0., 1.],\n",
       "        [0., 0., 0., ..., 0., 0., 1.],\n",
       "        [0., 0., 0., ..., 0., 0., 1.]]), (2400, 785))"
      ]
     },
     "execution_count": 70,
     "metadata": {},
     "output_type": "execute_result"
    }
   ],
   "source": [
    "x_delta = np.append(x, np.ones((x.shape[0], 1)), axis=1)\n",
    "x_delta, x_delta.shape"
   ]
  },
  {
   "cell_type": "code",
   "execution_count": 71,
   "metadata": {},
   "outputs": [
    {
     "data": {
      "text/plain": [
       "(array([[-5.63795047e-04, -7.88938722e-04, -2.51576124e-04, ...,\n",
       "         -4.95694154e-04, -1.08647390e-04, -9.07576247e-05],\n",
       "        [-3.41037060e-04,  1.40580204e-04, -4.44138414e-04, ...,\n",
       "          9.10748826e-05,  2.33016815e-05,  2.75897560e-05],\n",
       "        [-5.64795652e-04,  1.74178402e-04, -1.11366877e-04, ...,\n",
       "          2.98258500e-04, -8.67689842e-04,  6.37789926e-05],\n",
       "        ...,\n",
       "        [-1.75748230e-04,  1.43494005e-06, -2.81809242e-05, ...,\n",
       "         -7.59919987e-05, -4.65864194e-04,  9.46179762e-05],\n",
       "        [ 1.00420013e-04, -1.61052896e-04, -1.34171277e-04, ...,\n",
       "         -1.61592292e-04,  4.34180377e-04, -1.21774605e-04],\n",
       "        [ 1.59047786e-03,  1.57917926e-03,  9.43402145e-04, ...,\n",
       "          4.23254769e-03, -1.59497339e-03,  6.36501164e-03]]), (785, 2400))"
      ]
     },
     "execution_count": 71,
     "metadata": {},
     "output_type": "execute_result"
    }
   ],
   "source": [
    "# A_matrix is just an intermediate to avoid re-calculation for each class\n",
    "A_matrix = np.dot(np.linalg.pinv(np.dot(x_delta.T, x_delta)), x_delta.T)\n",
    "A_matrix, A_matrix.shape"
   ]
  },
  {
   "cell_type": "code",
   "execution_count": 76,
   "metadata": {},
   "outputs": [
    {
     "data": {
      "text/plain": [
       "(10, 2400)"
      ]
     },
     "execution_count": 76,
     "metadata": {},
     "output_type": "execute_result"
    }
   ],
   "source": [
    "# Labels matrix (), each row representing one class, and the columns represent the true label of each image \n",
    "T = np.zeros((10, 2400))\n",
    "for i in range(len(T)):\n",
    "    T[i] = np.where(t == i, 1, -1)\n",
    "T.shape"
   ]
  },
  {
   "cell_type": "code",
   "execution_count": 99,
   "metadata": {
    "scrolled": true
   },
   "outputs": [
    {
     "data": {
      "text/plain": [
       "(array([[-1.28122634e-02, -1.04062050e-02,  2.11384103e-02, ...,\n",
       "          4.61245558e-03, -1.15395581e-02, -8.35871834e-03],\n",
       "        [-8.20818997e-03, -1.27681691e-02, -1.79094082e-02, ...,\n",
       "          8.55325381e-03,  1.82555742e-02, -2.50475252e-02],\n",
       "        [-1.28384850e-02, -1.41128185e-02, -2.12430908e-02, ...,\n",
       "          1.67946959e-02,  9.80420930e-03, -1.50468826e-02],\n",
       "        ...,\n",
       "        [-5.64247937e-04,  2.67185494e-04, -6.29812154e-03, ...,\n",
       "         -4.27307909e-05,  5.57044346e-03, -3.79859912e-03],\n",
       "        [-1.84230940e-03,  8.58858661e-04, -2.88541430e-03, ...,\n",
       "         -6.67152393e-03,  1.45686724e-03,  3.44808727e-03],\n",
       "        [-5.98916042e-01, -4.50061325e-01, -9.48247004e-01, ...,\n",
       "         -7.56519387e-01, -1.19480465e+00, -8.29974078e-01]]), (785, 10))"
      ]
     },
     "execution_count": 99,
     "metadata": {},
     "output_type": "execute_result"
    }
   ],
   "source": [
    "# wc_3 = np.dot(A_matrix, t_3)\n",
    "# weights_matrix = [None] * 10\n",
    "# for i in range(len(weights_matrix)):\n",
    "#     weights_matrix[i] = np.dot(A_matrix, T[i])\n",
    "\n",
    "# WC = np.vstack((weights_matrix)).T\n",
    "# WC, WC.shape\n",
    "\n",
    "weights_matrix = np.zeros((785, 10))\n",
    "for i in range(10):\n",
    "    # Set each col. as the weight vector in index i.\n",
    "    weights_matrix[:,i] = np.dot(A_matrix, T[i])\n",
    "\n",
    "weights_matrix, weights_matrix.shape"
   ]
  },
  {
   "cell_type": "code",
   "execution_count": 104,
   "metadata": {},
   "outputs": [
    {
     "data": {
      "text/plain": [
       "(785, 10)"
      ]
     },
     "execution_count": 104,
     "metadata": {},
     "output_type": "execute_result"
    }
   ],
   "source": [
    "out = np.dot(x_delta, WC)\n",
    "WC.shape"
   ]
  },
  {
   "cell_type": "code",
   "execution_count": 110,
   "metadata": {},
   "outputs": [
    {
     "data": {
      "text/plain": [
       "((array([4]),), 4)"
      ]
     },
     "execution_count": 110,
     "metadata": {},
     "output_type": "execute_result"
    }
   ],
   "source": [
    "tested = out[1000]\n",
    "pred = np.where(zero == zero.max())\n",
    "pred, pred[0][0]"
   ]
  },
  {
   "cell_type": "code",
   "execution_count": 67,
   "metadata": {
    "scrolled": false
   },
   "outputs": [
    {
     "data": {
      "text/plain": [
       "(2400, 10)"
      ]
     },
     "execution_count": 67,
     "metadata": {},
     "output_type": "execute_result"
    }
   ],
   "source": [
    "out.shape"
   ]
  }
 ],
 "metadata": {
  "file_extension": ".py",
  "kernelspec": {
   "display_name": "Python 3",
   "language": "python",
   "name": "python3"
  },
  "language_info": {
   "codemirror_mode": {
    "name": "ipython",
    "version": 3
   },
   "file_extension": ".py",
   "mimetype": "text/x-python",
   "name": "python",
   "nbconvert_exporter": "python",
   "pygments_lexer": "ipython3",
   "version": "3.5.2"
  },
  "mimetype": "text/x-python",
  "name": "python",
  "npconvert_exporter": "python",
  "pygments_lexer": "ipython3",
  "version": 3
 },
 "nbformat": 4,
 "nbformat_minor": 2
}
