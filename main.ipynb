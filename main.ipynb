{
 "cells": [
  {
   "cell_type": "code",
   "execution_count": null,
   "metadata": {},
   "outputs": [],
   "source": [
    "import matplotlib.pyplot as plt\n",
    "import numpy as np\n",
    "import os"
   ]
  },
  {
   "cell_type": "code",
   "execution_count": null,
   "metadata": {},
   "outputs": [],
   "source": [
    "def get_t():\n",
    "    labels_path = os.path.join('Train', 'Training Labels.txt')\n",
    "    with open(labels_path) as f:\n",
    "        training_labels = [int(x) for x in f.read().splitlines()]\n",
    "    return np.array(training_labels)"
   ]
  },
  {
   "cell_type": "code",
   "execution_count": null,
   "metadata": {},
   "outputs": [],
   "source": [
    "def get_x():\n",
    "    sorted_file_names = sorted([x for x in os.listdir('Train') if x.endswith('.jpg')], key=lambda x: int(x[:-4]))\n",
    "\n",
    "    image_paths = [os.path.join('Train', x) for x in sorted_file_names]\n",
    "    x_input_points = np.zeros((0, 784))\n",
    "    for img in image_paths:\n",
    "        x_input_points = np.append(x_input_points, plt.imread(img).reshape(1, 784), axis=0)\n",
    "\n",
    "    return x_input_points "
   ]
  },
  {
   "cell_type": "code",
   "execution_count": null,
   "metadata": {},
   "outputs": [],
   "source": [
    "x = get_x()\n",
    "print('x: ', x.shape)\n",
    "t = get_t()\n",
    "print('t: ', t.shape)"
   ]
  },
  {
   "cell_type": "code",
   "execution_count": null,
   "metadata": {},
   "outputs": [],
   "source": [
    "x_delta = np.append(x, np.ones((x.shape[0], 1)), axis=1)\n",
    "x_delta, x_delta.shape"
   ]
  },
  {
   "cell_type": "code",
   "execution_count": null,
   "metadata": {},
   "outputs": [],
   "source": [
    "# A_matrix is just an intermediate to avoid re-calculation for each class\n",
    "A_matrix = np.dot(np.linalg.pinv(np.dot(x_delta.T, x_delta)), x_delta.T)\n",
    "A_matrix, A_matrix.shape"
   ]
  },
  {
   "cell_type": "code",
   "execution_count": null,
   "metadata": {},
   "outputs": [],
   "source": [
    "# Labels matrix, each row representing one class, and the columns represent whether\n",
    "# the image belongs to that class (row index) or not (-1, 1) \n",
    "T = np.zeros((10, 2400))\n",
    "for i in range(len(T)):\n",
    "    T[i] = np.where(t == i, 1, -1)\n",
    "T.shape"
   ]
  },
  {
   "cell_type": "code",
   "execution_count": null,
   "metadata": {
    "scrolled": true
   },
   "outputs": [],
   "source": [
    "# wc_3 = np.dot(A_matrix, t_3)\n",
    "# weights_matrix = [None] * 10\n",
    "# for i in range(len(weights_matrix)):\n",
    "#     weights_matrix[i] = np.dot(A_matrix, T[i])\n",
    "\n",
    "# WC = np.vstack((weights_matrix)).T\n",
    "# WC, WC.shape\n",
    "\n",
    "weights_matrix = np.zeros((785, 10))\n",
    "for i in range(10):\n",
    "    # Set each col. as the weight vector in index i.\n",
    "    weights_matrix[:,i] = np.dot(A_matrix, T[i])\n",
    "\n",
    "weights_matrix, weights_matrix.shape"
   ]
  },
  {
   "cell_type": "code",
   "execution_count": null,
   "metadata": {},
   "outputs": [],
   "source": [
    "predictions = np.dot(x_delta, weights_matrix)\n",
    "conf_matrix = np.zeros((10, 10))\n",
    "for i, row in enumerate(predictions):\n",
    "    prediction = np.where(row == row.max())[0][0] # The index (class) of the maximum value (most probable class)\n",
    "    true_value = t[i]\n",
    "    conf_matrix[true_value][prediction] += 1\n",
    "    \n",
    "conf_matrix"
   ]
  },
  {
   "cell_type": "code",
   "execution_count": null,
   "metadata": {},
   "outputs": [],
   "source": [
    "to_be_tested = predictions[2030]\n",
    "pred = np.where(to_be_tested == to_be_tested.max())\n",
    "pred, pred[0][0]"
   ]
  }
 ],
 "metadata": {
  "file_extension": ".py",
  "kernelspec": {
   "display_name": "Python 3",
   "language": "python",
   "name": "python3"
  },
  "language_info": {
   "codemirror_mode": {
    "name": "ipython",
    "version": 3
   },
   "file_extension": ".py",
   "mimetype": "text/x-python",
   "name": "python",
   "nbconvert_exporter": "python",
   "pygments_lexer": "ipython3",
   "version": "3.5.2"
  },
  "mimetype": "text/x-python",
  "name": "python",
  "npconvert_exporter": "python",
  "pygments_lexer": "ipython3",
  "version": 3
 },
 "nbformat": 4,
 "nbformat_minor": 2
}
