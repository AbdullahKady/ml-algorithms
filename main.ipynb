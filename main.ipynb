{
 "cells": [
  {
   "cell_type": "code",
   "execution_count": null,
   "metadata": {},
   "outputs": [],
   "source": [
    "import matplotlib.pyplot as plt\n",
    "import numpy as np"
   ]
  },
  {
   "cell_type": "code",
   "execution_count": null,
   "metadata": {},
   "outputs": [],
   "source": [
    "def get_t(labels_path):\n",
    "    with open(labels_path) as f:\n",
    "        training_labels = [int(x) for x in f.read().splitlines()]\n",
    "    return np.array(training_labels)"
   ]
  },
  {
   "cell_type": "code",
   "execution_count": null,
   "metadata": {},
   "outputs": [],
   "source": [
    "def get_x(folder_name, number_images):\n",
    "    x_input_points = np.zeros((0, 784))\n",
    "    for i in range(1, number_images + 1): # +1 Since it's exclusive\n",
    "        img_path = '{}/{}.jpg'.format(folder_name, i)\n",
    "        x_input_points = np.append(x_input_points, plt.imread(img_path).reshape(1, 784), axis=0)\n",
    "\n",
    "    return x_input_points"
   ]
  },
  {
   "cell_type": "code",
   "execution_count": null,
   "metadata": {},
   "outputs": [],
   "source": [
    "def get_T_matrix(t):\n",
    "    # Labels matrix, each row representing one class, and the columns represent whether\n",
    "    # the image belongs to that class (row index) or not (-1, 1) \n",
    "    T = np.zeros((10, len(t)))\n",
    "    for i in range(len(T)):\n",
    "        T[i] = np.where(t == i, 1, -1)\n",
    "    return T"
   ]
  },
  {
   "cell_type": "code",
   "execution_count": null,
   "metadata": {},
   "outputs": [],
   "source": [
    "def get_W_matrix(A_matrix, T):\n",
    "    weights_matrix = np.zeros((785, 10))\n",
    "    for i in range(10):\n",
    "        # Set each col. as the weight vector in index i.\n",
    "        weights_matrix[:,i] = np.dot(A_matrix, T[i])\n",
    "    return weights_matrix"
   ]
  },
  {
   "cell_type": "code",
   "execution_count": null,
   "metadata": {},
   "outputs": [],
   "source": [
    "def get_confusion_matrix(x_delta, weights_matrix, true_labels):    \n",
    "    predictions = np.dot(x_delta, weights_matrix)\n",
    "    conf_matrix = np.zeros((10, 10))\n",
    "    for i, row in enumerate(predictions):\n",
    "        # The index (class) of the maximum value (most probable class)\n",
    "        prediction = np.where(row == row.max())[0][0]\n",
    "        true_value = true_labels[i]\n",
    "        conf_matrix[true_value][prediction] += 1\n",
    "\n",
    "    return conf_matrix"
   ]
  },
  {
   "cell_type": "code",
   "execution_count": null,
   "metadata": {},
   "outputs": [],
   "source": [
    "def get_x_delta(x):\n",
    "    return np.append(x, np.ones((x.shape[0], 1)), axis=1)"
   ]
  },
  {
   "cell_type": "code",
   "execution_count": null,
   "metadata": {},
   "outputs": [],
   "source": [
    "# Loading in a separate cell to avoid multiple loads.\n",
    "x_train = get_x('Train', 2400)\n",
    "x_delta = get_x_delta(x_train)\n",
    "training_true_labels = get_t('Train/Training Labels.txt')"
   ]
  },
  {
   "cell_type": "code",
   "execution_count": null,
   "metadata": {},
   "outputs": [],
   "source": [
    "# Train (get the weight vectors)\n",
    "\n",
    "# A_matrix is just an intermediate to avoid re-calculation for each class\n",
    "A_matrix = np.dot(np.linalg.pinv(np.dot(x_delta.T, x_delta)), x_delta.T)\n",
    "T = get_T_matrix(training_true_labels)\n",
    "weights_matrix = get_W_matrix(A_matrix, T)"
   ]
  },
  {
   "cell_type": "code",
   "execution_count": null,
   "metadata": {},
   "outputs": [],
   "source": [
    "x_delta_test = get_x_delta(get_x('Test', 200))\n",
    "test_true_labels = get_t('Test/Test Labels.txt')\n",
    "conf_matrix = get_confusion_matrix(x_delta_test, weights_matrix, test_true_labels)\n",
    "plt.imshow(conf_matrix)\n",
    "plt.savefig('Confusion.jpg')\n",
    "conf_matrix, conf_matrix.shape"
   ]
  }
 ],
 "metadata": {
  "file_extension": ".py",
  "kernelspec": {
   "display_name": "Python 3",
   "language": "python",
   "name": "python3"
  },
  "language_info": {
   "codemirror_mode": {
    "name": "ipython",
    "version": 3
   },
   "file_extension": ".py",
   "mimetype": "text/x-python",
   "name": "python",
   "nbconvert_exporter": "python",
   "pygments_lexer": "ipython3",
   "version": "3.5.2"
  },
  "mimetype": "text/x-python",
  "name": "python",
  "npconvert_exporter": "python",
  "pygments_lexer": "ipython3",
  "version": 3
 },
 "nbformat": 4,
 "nbformat_minor": 2
}
