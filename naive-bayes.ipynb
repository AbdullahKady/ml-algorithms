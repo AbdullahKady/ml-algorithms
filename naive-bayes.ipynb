{
 "cells": [
  {
   "cell_type": "code",
   "execution_count": 1,
   "metadata": {},
   "outputs": [],
   "source": [
    "import matplotlib.pyplot as plt\n",
    "import numpy as np\n",
    "import math"
   ]
  },
  {
   "cell_type": "code",
   "execution_count": 2,
   "metadata": {},
   "outputs": [],
   "source": [
    "def get_t(labels_path):\n",
    "    with open(labels_path) as f:\n",
    "        training_labels = [int(x) for x in f.read().splitlines()]\n",
    "    return np.array(training_labels)"
   ]
  },
  {
   "cell_type": "code",
   "execution_count": 3,
   "metadata": {},
   "outputs": [],
   "source": [
    "def get_confusion_matrix(true_labels, predictions):    \n",
    "    conf_matrix = np.zeros((10, 10))\n",
    "    for i, predicted_class in enumerate(predictions):\n",
    "        conf_matrix[true_labels[i]][predicted_class] += 1\n",
    "\n",
    "    return conf_matrix"
   ]
  },
  {
   "cell_type": "code",
   "execution_count": 4,
   "metadata": {},
   "outputs": [],
   "source": [
    "def get_x(folder_name, number_images):\n",
    "    x_input_points = np.zeros((0, 784))\n",
    "    for i in range(1, number_images + 1): # +1 Since it's exclusive\n",
    "        img_path = '{}/{}.jpg'.format(folder_name, i)\n",
    "        x_input_points = np.append(x_input_points, plt.imread(img_path).reshape(1, 784), axis=0)\n",
    "\n",
    "    return x_input_points"
   ]
  },
  {
   "cell_type": "code",
   "execution_count": null,
   "metadata": {},
   "outputs": [],
   "source": [
    "def gaussian(x, mean, variance):\n",
    "    deno = (2 * math.pi * variance) ** 0.5\n",
    "    exp = -1 * ( (x-mean)**2 / (2*variance) )\n",
    "    return (1/deno) * math.exp(exp)"
   ]
  },
  {
   "cell_type": "code",
   "execution_count": 5,
   "metadata": {},
   "outputs": [],
   "source": [
    "# Loading in a separate cell to avoid multiple loads.\n",
    "x_delta = get_x('Train', 2400)\n",
    "training_true_labels = get_t('Train/Training Labels.txt')"
   ]
  },
  {
   "cell_type": "code",
   "execution_count": 6,
   "metadata": {},
   "outputs": [
    {
     "data": {
      "text/plain": [
       "(10, 784)"
      ]
     },
     "execution_count": 6,
     "metadata": {},
     "output_type": "execute_result"
    }
   ],
   "source": [
    "means = np.zeros((10, 784))\n",
    "variances = np.zeros((10, 784))\n",
    "\n",
    "classes_inputs = np.split(x_delta/255, 10)\n",
    "\n",
    "for i, c in enumerate(classes_inputs):\n",
    "    means[i] = np.mean(c, axis=0)\n",
    "    \n",
    "for i, c in enumerate(classes_inputs):\n",
    "    variances[i] = np.var(c, axis=0)\n",
    "    variances[i][variances[i] < 0.01] = 0.01\n",
    "means.shape"
   ]
  },
  {
   "cell_type": "code",
   "execution_count": 9,
   "metadata": {},
   "outputs": [
    {
     "name": "stderr",
     "output_type": "stream",
     "text": [
      "/home/abdullah/.virtualenvs/ml/lib/python3.5/site-packages/ipykernel_launcher.py:8: RuntimeWarning: overflow encountered in double_scalars\n",
      "  \n"
     ]
    }
   ],
   "source": [
    "x_delta_test = get_x('Test', 200)/255\n",
    "test_true_labels = get_t('Test/Test Labels.txt')\n",
    "\n",
    "probabilities = np.ones((200, 10))\n",
    "for i in range(200):\n",
    "    for c in range(10):\n",
    "        for f in range(784):\n",
    "            probabilities[i][c] *= gaussian(x_delta_test[i][f], means[c][f], variances[c][f])"
   ]
  },
  {
   "cell_type": "code",
   "execution_count": 10,
   "metadata": {},
   "outputs": [
    {
     "data": {
      "image/png": "[encoded data removed]",
      "text/plain": [
       "<Figure size 432x288 with 1 Axes>"
      ]
     },
     "metadata": {
      "needs_background": "light"
     },
     "output_type": "display_data"
    }
   ],
   "source": [
    "predictions = np.argmax(probabilities, axis=1)\n",
    "conf_matrix = get_confusion_matrix(test_true_labels, predictions)\n",
    "plt.imshow(conf_matrix)\n",
    "plt.savefig('Confusion-naive.jpg')\n"
   ]
  }
 ],
 "metadata": {
  "file_extension": ".py",
  "kernelspec": {
   "display_name": "Python 3",
   "language": "python",
   "name": "python3"
  },
  "language_info": {
   "codemirror_mode": {
    "name": "ipython",
    "version": 3
   },
   "file_extension": ".py",
   "mimetype": "text/x-python",
   "name": "python",
   "nbconvert_exporter": "python",
   "pygments_lexer": "ipython3",
   "version": "3.5.2"
  },
  "mimetype": "text/x-python",
  "name": "python",
  "npconvert_exporter": "python",
  "pygments_lexer": "ipython3",
  "version": 3
 },
 "nbformat": 4,
 "nbformat_minor": 2
}
