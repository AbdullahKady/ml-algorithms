{
 "cells": [
  {
   "cell_type": "code",
   "execution_count": null,
   "metadata": {},
   "outputs": [],
   "source": [
    "import matplotlib.pyplot as plt\n",
    "import numpy as np"
   ]
  },
  {
   "cell_type": "code",
   "execution_count": null,
   "metadata": {},
   "outputs": [],
   "source": [
    "def get_x(folder_name, number_images):\n",
    "    x_input_points = np.zeros((0, 784))\n",
    "    for i in range(1, number_images + 1): # +1 Since it's exclusive\n",
    "        img_path = '{}/{}.jpg'.format(folder_name, i)\n",
    "        x_input_points = np.append(x_input_points, plt.imread(img_path).reshape(1, 784), axis=0)\n",
    "\n",
    "    return x_input_points / 255"
   ]
  },
  {
   "cell_type": "code",
   "execution_count": null,
   "metadata": {},
   "outputs": [],
   "source": [
    "def get_t(labels_path):\n",
    "    with open(labels_path) as f:\n",
    "        training_labels = [int(x) for x in f.read().splitlines()]\n",
    "    return np.array(training_labels)"
   ]
  },
  {
   "cell_type": "code",
   "execution_count": null,
   "metadata": {},
   "outputs": [],
   "source": [
    "def get_confusion_matrix(true_labels, predictions):    \n",
    "    conf_matrix = np.zeros((10, 10))\n",
    "    for i, predicted_class in enumerate(predictions):\n",
    "        conf_matrix[true_labels[i]][predicted_class] += 1\n",
    "\n",
    "    return conf_matrix"
   ]
  },
  {
   "cell_type": "code",
   "execution_count": null,
   "metadata": {},
   "outputs": [],
   "source": [
    "def gaussian(x, mean, variance):\n",
    "    denominator = (2 * np.pi * variance) ** 0.5\n",
    "    exponential = -1 * ((x-mean)**2 / (2*variance))\n",
    "    return (1/denominator) * np.exp(exponential)"
   ]
  },
  {
   "cell_type": "code",
   "execution_count": null,
   "metadata": {},
   "outputs": [],
   "source": [
    "# Loading in a separate cell to avoid multiple loads.\n",
    "x_train = get_x('Train', 2400)"
   ]
  },
  {
   "cell_type": "code",
   "execution_count": null,
   "metadata": {},
   "outputs": [],
   "source": [
    "# Calculate the mean&variance per class for each feature.\n",
    "means = np.zeros((10, 784))\n",
    "variances = np.zeros((10, 784))\n",
    "\n",
    "classes_inputs = np.split(x_train, 10)\n",
    "\n",
    "for i, c in enumerate(classes_inputs):\n",
    "    means[i] = np.mean(c, axis=0)\n",
    "    \n",
    "for i, c in enumerate(classes_inputs):\n",
    "    variances[i] = np.var(c, axis=0)\n",
    "    variances[i][variances[i] < 0.01] = 0.01"
   ]
  },
  {
   "cell_type": "code",
   "execution_count": null,
   "metadata": {},
   "outputs": [],
   "source": [
    "# Load test data (images&labels).\n",
    "x_test = get_x('Test', 200)\n",
    "test_true_labels = get_t('Test/Test Labels.txt')"
   ]
  },
  {
   "cell_type": "code",
   "execution_count": null,
   "metadata": {},
   "outputs": [],
   "source": [
    "# Calculate the probability of each class per image which the mulitplication\n",
    "# of the probabilty if each feature belonging to that class (Independence assumed)\n",
    "probabilities = np.ones((200, 10))\n",
    "for i in range(200): # Image \"i\"\n",
    "    for c in range(10): # Class \"c\"\n",
    "        for f in range(784): # Feature \"f\"\n",
    "            probabilities[i][c] *= gaussian(x_test[i][f], means[c][f], variances[c][f])"
   ]
  },
  {
   "cell_type": "code",
   "execution_count": null,
   "metadata": {
    "scrolled": true
   },
   "outputs": [],
   "source": [
    "predictions = np.argmax(probabilities, axis=1)\n",
    "confusion_matrix = get_confusion_matrix(test_true_labels, predictions)\n",
    "plt.imshow(confusion_matrix)\n",
    "plt.savefig('Confusion-Gauss.jpg')"
   ]
  }
 ],
 "metadata": {
  "file_extension": ".py",
  "kernelspec": {
   "display_name": "Python 3",
   "language": "python",
   "name": "python3"
  },
  "language_info": {
   "codemirror_mode": {
    "name": "ipython",
    "version": 3
   },
   "file_extension": ".py",
   "mimetype": "text/x-python",
   "name": "python",
   "nbconvert_exporter": "python",
   "pygments_lexer": "ipython3",
   "version": "3.5.2"
  },
  "mimetype": "text/x-python",
  "name": "python",
  "npconvert_exporter": "python",
  "pygments_lexer": "ipython3",
  "version": 3
 },
 "nbformat": 4,
 "nbformat_minor": 2
}
