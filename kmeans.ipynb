{
 "cells": [
  {
   "cell_type": "code",
   "execution_count": null,
   "metadata": {},
   "outputs": [],
   "source": [
    "import matplotlib.pyplot as plt\n",
    "import numpy as np"
   ]
  },
  {
   "cell_type": "code",
   "execution_count": null,
   "metadata": {},
   "outputs": [],
   "source": [
    "def get_x(folder_name, number_images):\n",
    "    x_input_points = np.zeros((0, 784))\n",
    "    for i in range(1, number_images + 1): # +1 Since it's exclusive\n",
    "        img_path = '{}/{}.jpg'.format(folder_name, i)\n",
    "        x_input_points = np.append(x_input_points, plt.imread(img_path).reshape(1, 784), axis=0)\n",
    "    # Convert it to binary with threshold 140\n",
    "    x_input_points[x_input_points < 140] = 0\n",
    "    x_input_points[x_input_points >= 140] = 1\n",
    "    return x_input_points"
   ]
  },
  {
   "cell_type": "code",
   "execution_count": null,
   "metadata": {},
   "outputs": [],
   "source": [
    "def get_t(labels_path):\n",
    "    with open(labels_path) as f:\n",
    "        training_labels = [int(x) for x in f.read().splitlines()]\n",
    "    return np.array(training_labels)"
   ]
  },
  {
   "cell_type": "code",
   "execution_count": null,
   "metadata": {},
   "outputs": [],
   "source": [
    "# Loading in a separate cell to avoid multiple loads.\n",
    "x_input = get_x('Images', 2400)\n",
    "labels = get_t('Images/Training Labels.txt')"
   ]
  },
  {
   "cell_type": "code",
   "execution_count": null,
   "metadata": {},
   "outputs": [],
   "source": [
    "def initialize_center_indices(images, k_number):\n",
    "    number_of_images = images.shape[0]\n",
    "    centers_indices = np.zeros(k_number).astype(int)\n",
    "    centers_indices[0] = np.random.randint(0, number_of_images)\n",
    "    \n",
    "    for k in range(1, k_number):\n",
    "        previous_center = x_input[centers_indices[k - 1]]\n",
    "        max_so_far = {\n",
    "            'index': centers_indices[k - 1],\n",
    "            'value': 0\n",
    "        }\n",
    "        for i in range(0, number_of_images):\n",
    "            difference =  np.dot(previous_center - x_input[i], previous_center - x_input[i])\n",
    "            if difference > max_so_far['value'] and i not in centers_indices:\n",
    "                max_so_far = {\n",
    "                    'index': i,\n",
    "                    'value': difference\n",
    "                }\n",
    "        centers_indices[k] = max_so_far['index']\n",
    "    return centers_indices"
   ]
  },
  {
   "cell_type": "code",
   "execution_count": null,
   "metadata": {},
   "outputs": [],
   "source": [
    "def get_k_means_clusters(x_input):\n",
    "\n",
    "    centroids = x_input[initialize_center_indices(x_input, 10)]\n",
    "    previous_centroids = np.zeros((10, 784))\n",
    "\n",
    "    # Keep looping till 2 consecutive runs yield the same centroids\n",
    "    iterations = 0\n",
    "    while(not (centroids == previous_centroids).all()):\n",
    "        iterations += 1\n",
    "        previous_centroids = centroids\n",
    "        images_clusters = np.array([]) # 1d array, size of the count of images (2400)\n",
    "        for x in x_input:\n",
    "            differences = np.array([])\n",
    "            for c in centroids:\n",
    "                differences = np.append(differences, np.dot(x-c, x-c))\n",
    "\n",
    "            # Each index represents which cluster an image at said index belongs to\n",
    "            images_clusters = np.append(images_clusters, np.argmin(differences))\n",
    "\n",
    "        # Update centroids: get the mean of each cluster(k) \n",
    "        centroids = np.array([x_input[images_clusters == k].mean(axis = 0) for k in range(10)])\n",
    "    \n",
    "    return iterations, centroids"
   ]
  },
  {
   "cell_type": "code",
   "execution_count": null,
   "metadata": {},
   "outputs": [],
   "source": [
    "'''\n",
    "TODO: \n",
    "Somehow we need to do the following for all 2400 images:\n",
    "1- diff from the 10 centroids\n",
    "2- get argmin(diffs)\n",
    "3- compare indices from (2) with true labels\n",
    "4- plot a histogram of counts clustered\n",
    "'''\n",
    "i, centroids = get_k_means_clusters(x_input)\n",
    "print('Took {} runs to converge'.format(i))"
   ]
  },
  {
   "cell_type": "code",
   "execution_count": null,
   "metadata": {},
   "outputs": [],
   "source": [
    "fig=plt.figure(figsize=(8, 8))\n",
    "\n",
    "for i in range(0,10):\n",
    "    fig.add_subplot(3, 4, i+1)\n",
    "    plt.imshow(np.split(centroids[i], 28))\n",
    "plt.show()"
   ]
  }
 ],
 "metadata": {
  "file_extension": ".py",
  "kernelspec": {
   "display_name": "Python 3",
   "language": "python",
   "name": "python3"
  },
  "language_info": {
   "codemirror_mode": {
    "name": "ipython",
    "version": 3
   },
   "file_extension": ".py",
   "mimetype": "text/x-python",
   "name": "python",
   "nbconvert_exporter": "python",
   "pygments_lexer": "ipython3",
   "version": "3.5.2"
  },
  "mimetype": "text/x-python",
  "name": "python",
  "npconvert_exporter": "python",
  "pygments_lexer": "ipython3",
  "version": 3
 },
 "nbformat": 4,
 "nbformat_minor": 2
}
