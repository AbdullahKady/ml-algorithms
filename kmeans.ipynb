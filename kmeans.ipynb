{
 "cells": [
  {
   "cell_type": "code",
   "execution_count": null,
   "metadata": {},
   "outputs": [],
   "source": [
    "import matplotlib.pyplot as plt\n",
    "import numpy as np"
   ]
  },
  {
   "cell_type": "code",
   "execution_count": null,
   "metadata": {},
   "outputs": [],
   "source": [
    "def get_x(folder_name, number_images):\n",
    "    x_input_points = np.zeros((0, 784))\n",
    "    for i in range(1, number_images + 1): # +1 Since it's exclusive\n",
    "        img_path = '{}/{}.jpg'.format(folder_name, i)\n",
    "        x_input_points = np.append(x_input_points, plt.imread(img_path).reshape(1, 784), axis=0)\n",
    "    # Convert it to binary with threshold 140\n",
    "    x_input_points[x_input_points < 140] = 0\n",
    "    x_input_points[x_input_points >= 140] = 1\n",
    "    return x_input_points"
   ]
  },
  {
   "cell_type": "code",
   "execution_count": null,
   "metadata": {},
   "outputs": [],
   "source": [
    "# Loading in a separate cell to avoid multiple loads.\n",
    "x_input = get_x('Images', 2400)"
   ]
  },
  {
   "cell_type": "code",
   "execution_count": null,
   "metadata": {},
   "outputs": [],
   "source": [
    "def initialize_center_indices(images, k_number):\n",
    "    \"\"\"\n",
    "    Random initialization of centroids as follows:\n",
    "        - Start with a random point of the given input points\n",
    "        - For the rest of K-1 centers remaining keep on:\n",
    "            + Choose the input point with the maximum distance from the previous\n",
    "              centroid, making sure the same point is never selected twice.\n",
    "    \"\"\"\n",
    "    number_of_images = images.shape[0]\n",
    "    centers_indices = np.zeros(k_number).astype(int)\n",
    "    centers_indices[0] = np.random.randint(0, number_of_images)\n",
    "    \n",
    "    for k in range(1, k_number):\n",
    "        previous_center = x_input[centers_indices[k - 1]]\n",
    "        # Initialized as the previous center, so that the distance is minimum (0)\n",
    "        max_so_far = {\n",
    "            'index': centers_indices[k - 1],\n",
    "            'value': 0\n",
    "        }\n",
    "        for i in range(0, number_of_images):\n",
    "            difference =  np.dot(previous_center - x_input[i], previous_center - x_input[i])\n",
    "            if difference > max_so_far['value'] and i not in centers_indices:\n",
    "                max_so_far = {\n",
    "                    'index': i,\n",
    "                    'value': difference\n",
    "                }\n",
    "        centers_indices[k] = max_so_far['index']\n",
    "    return centers_indices"
   ]
  },
  {
   "cell_type": "code",
   "execution_count": null,
   "metadata": {},
   "outputs": [],
   "source": [
    "def get_k_means_clusters(x_input):\n",
    "\n",
    "    centroids = x_input[initialize_center_indices(x_input, 10)]\n",
    "    previous_centroids = np.zeros((10, 784))\n",
    "\n",
    "    # Keep looping till 2 consecutive runs yield the same centroids\n",
    "    while(not (centroids == previous_centroids).all()):\n",
    "        previous_centroids = centroids\n",
    "        images_clusters = np.array([]) # 1d array, size of the count of images (2400)\n",
    "        for x in x_input:\n",
    "            differences = np.array([])\n",
    "            for c in centroids:\n",
    "                differences = np.append(differences, np.dot(x-c, x-c))\n",
    "\n",
    "            # Each index represents which cluster an image at said index belongs to\n",
    "            images_clusters = np.append(images_clusters, np.argmin(differences))\n",
    "\n",
    "        # Update centroids: get the mean of each cluster(k) \n",
    "        centroids = np.array([x_input[images_clusters == k].mean(axis = 0) for k in range(10)])\n",
    "    \n",
    "    return centroids"
   ]
  },
  {
   "cell_type": "code",
   "execution_count": null,
   "metadata": {
    "scrolled": true
   },
   "outputs": [],
   "source": [
    "# Iterate 30 times, the best generated centroids are picked according to the minimum\n",
    "# sum of squared differences (the closeness of each cluster's members to it's center).\n",
    "\n",
    "best_centroids = None\n",
    "smallest_so_far = None\n",
    "for _ in range(30):\n",
    "    centroids = get_k_means_clusters(x_input)\n",
    "    # A 2400 array, each representing the image at index i's cluster number.\n",
    "    result = np.array([np.argmin([np.dot(x-c, x-c) for c in centroids]) for x in x_input])\n",
    "\n",
    "    # TODO: Use comprehinsion for extra cool-ness :D\n",
    "    sums = []\n",
    "    for k in range(10):\n",
    "        center_point = centroids[k]\n",
    "        indices = np.where(result==k)[0] # Indices of images belonging to cluster k\n",
    "        sums.append(sum(np.dot(x_input[j] - center_point, x_input[j] - center_point) for j in indices))\n",
    "\n",
    "    if smallest_so_far is None or (sum(sums) < smallest_so_far):\n",
    "        print('Updated centroids: diff from {} to {}'.format(smallest_so_far, sum(sums)))\n",
    "        smallest_so_far = sum(sums)\n",
    "        best_centroids = centroids\n"
   ]
  },
  {
   "cell_type": "code",
   "execution_count": null,
   "metadata": {},
   "outputs": [],
   "source": [
    "x_clusters = np.array([np.argmin([np.dot(x-c, x-c) for c in best_centroids]) for x in x_input])\n",
    "\n",
    "# A list of size 10, where the index represents the input digit, and the value is the count of the maximum cluster.\n",
    "# Eg. For the very first 240 images, the count of the most frequent cluster is the value of the first element.\n",
    "max_counts = [counts.max() for _, counts in [np.unique(digit, return_counts=True) for digit in np.split(x_clusters, 10)]]"
   ]
  },
  {
   "cell_type": "code",
   "execution_count": null,
   "metadata": {},
   "outputs": [],
   "source": [
    "bars = plt.bar(range(10), height=max_counts, tick_label=[i for i, _ in enumerate(max_counts)])\n",
    "for i, bar in enumerate(bars):\n",
    "    y_val = bar.get_height()\n",
    "    plt.text(bar.get_x() + 0.1, y_val + 1 , max_counts[i]) # This is pure trail and error \\_0_/"
   ]
  }
 ],
 "metadata": {
  "file_extension": ".py",
  "kernelspec": {
   "display_name": "Python 3",
   "language": "python",
   "name": "python3"
  },
  "language_info": {
   "codemirror_mode": {
    "name": "ipython",
    "version": 3
   },
   "file_extension": ".py",
   "mimetype": "text/x-python",
   "name": "python",
   "nbconvert_exporter": "python",
   "pygments_lexer": "ipython3",
   "version": "3.5.2"
  },
  "mimetype": "text/x-python",
  "name": "python",
  "npconvert_exporter": "python",
  "pygments_lexer": "ipython3",
  "version": 3
 },
 "nbformat": 4,
 "nbformat_minor": 2
}
